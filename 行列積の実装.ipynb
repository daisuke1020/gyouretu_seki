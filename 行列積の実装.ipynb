{
 "cells": [
  {
   "cell_type": "markdown",
   "id": "9ce087c1",
   "metadata": {},
   "source": [
    "【問題1】行列積を手計算する"
   ]
  },
  {
   "cell_type": "code",
   "execution_count": null,
   "id": "e399de6d",
   "metadata": {},
   "outputs": [],
   "source": [
    "a_ndarray = np.array([[-1, 2, 3], [4, -5, 6], [7, 8, -9]])\n",
    "b_ndarray = np.array([[0, 2, 1], [0, 2, -8], [2, 9, -1]])\n",
    "\n",
    "-1*0 + 2*0 + 3*2    -1*2 + 2*2 + 3*9   -1*1 + 2*-8 + 3*-1\n",
    "4*0 + -5*0 + 6*2   4*2 + -5*2 + 6*9   4*1 + -5*-8 + 6*-1\n",
    "7*0 + 8*0 + -9*2   7*2 + 8*2 + -9*9.  7*1 + 8*-8 + -9*-1\n",
    "\n",
    "   6   29   -20\n",
    " 12   52    38\n",
    "-18  -51   -48"
   ]
  },
  {
   "cell_type": "markdown",
   "id": "3428b465",
   "metadata": {},
   "source": [
    "【問題2】NumPyの関数による計算"
   ]
  },
  {
   "cell_type": "code",
   "execution_count": 1,
   "id": "ade662fa",
   "metadata": {},
   "outputs": [
    {
     "name": "stdout",
     "output_type": "stream",
     "text": [
      "[[  6  29 -20]\n",
      " [ 12  52  38]\n",
      " [-18 -51 -48]]\n"
     ]
    }
   ],
   "source": [
    "import numpy as np\n",
    "\n",
    "a_ndarray = np.array([[-1, 2, 3], [4, -5, 6], [7, 8, -9]])\n",
    "b_ndarray = np.array([[0, 2, 1], [0, 2, -8], [2, 9, -1]])\n",
    "\n",
    "c_ndarray = np.matmul(a_ndarray,b_ndarray)\n",
    "\n",
    "print(c_ndarray)"
   ]
  },
  {
   "cell_type": "code",
   "execution_count": 2,
   "id": "12ec1c0c",
   "metadata": {},
   "outputs": [
    {
     "name": "stdout",
     "output_type": "stream",
     "text": [
      "[[  6  29 -20]\n",
      " [ 12  52  38]\n",
      " [-18 -51 -48]]\n"
     ]
    }
   ],
   "source": [
    "import numpy as np\n",
    "\n",
    "a_ndarray = np.array([[-1, 2, 3], [4, -5, 6], [7, 8, -9]])\n",
    "b_ndarray = np.array([[0, 2, 1], [0, 2, -8], [2, 9, -1]])\n",
    "\n",
    "d_ndarray = np.dot(a_ndarray,b_ndarray)\n",
    "\n",
    "print(d_ndarray)"
   ]
  },
  {
   "cell_type": "markdown",
   "id": "7039ee58",
   "metadata": {},
   "source": [
    "【問題3】ある要素の計算を実装"
   ]
  },
  {
   "cell_type": "code",
   "execution_count": 6,
   "id": "d202a62d",
   "metadata": {},
   "outputs": [
    {
     "name": "stdout",
     "output_type": "stream",
     "text": [
      "6\n"
     ]
    }
   ],
   "source": [
    "import numpy as np\n",
    "\n",
    "a_ndarray = np.array([[-1, 2, 3], [4, -5, 6], [7, 8, -9]])\n",
    "b_ndarray = np.array([[0, 2, 1], [0, 2, -8], [2, 9, -1]])\n",
    "\n",
    "ans = 0\n",
    "\n",
    "for i in range(0,3):\n",
    "    ans1 = a_ndarray[0,i]*b_ndarray[i,0]\n",
    "    ans += ans1\n",
    "    \n",
    "print(ans)"
   ]
  },
  {
   "cell_type": "markdown",
   "id": "210362d0",
   "metadata": {},
   "source": [
    "【問題4】行列積を行う関数の作成"
   ]
  },
  {
   "cell_type": "code",
   "execution_count": 5,
   "id": "fcb7f252",
   "metadata": {},
   "outputs": [
    {
     "name": "stdout",
     "output_type": "stream",
     "text": [
      "[[  6.  29. -20.]\n",
      " [ 12.  52.  38.]\n",
      " [-18. -51. -48.]]\n"
     ]
    }
   ],
   "source": [
    "import numpy as np\n",
    "\n",
    "a_ndarray = np.array([[-1, 2, 3], [4, -5, 6], [7, 8, -9]])\n",
    "b_ndarray = np.array([[0, 2, 1], [0, 2, -8], [2, 9, -1]])\n",
    "\n",
    "def multi(a,b):\n",
    "    \n",
    "    ans = np.zeros((len(a),len(b[0])))\n",
    "    ii = len(a)\n",
    "    kk = len(b)\n",
    "    jj = len(b[0])\n",
    "\n",
    "    for i in range(ii):\n",
    "        for j in range(jj):\n",
    "            for k in range(kk):\n",
    "                ans[i][j] = ans[i][j] + a[i][k]*b[k][j]\n",
    "        \n",
    "    return ans\n",
    "\n",
    "print(multi(a_ndarray,b_ndarray))"
   ]
  },
  {
   "cell_type": "markdown",
   "id": "36a5c507",
   "metadata": {},
   "source": [
    "【問題5】計算が定義されない入力を判定する"
   ]
  },
  {
   "cell_type": "code",
   "execution_count": 7,
   "id": "8ddcb16a",
   "metadata": {},
   "outputs": [
    {
     "name": "stdout",
     "output_type": "stream",
     "text": [
      "配列に問題あり、計算できません！\n",
      "None\n"
     ]
    }
   ],
   "source": [
    "import numpy as np\n",
    "\n",
    "a_ndarray = np.array([[-1, 2, 3], [4, -5, 6], [7, 8, -9]])\n",
    "b_ndarray = np.array([[0, 2, 1], [0, 2, -8], [2, 9, -1]])\n",
    "\n",
    "d_ndarray = np.array([[-1, 2, 3], [4, -5, 6]])\n",
    "e_ndarray = np.array([[-9, 8, 7], [6, -5, 4]])\n",
    "\n",
    "def multi(a,b):\n",
    "\n",
    "    ans = np.zeros((len(a),len(b[0])))\n",
    "    \n",
    "    ii = len(a)\n",
    "    kk = len(b)\n",
    "    jj = len(b[0])\n",
    "    if len(a[0]) != len(b):　　　　#aの0行とbの[0]行が一致しなければエラー表示\n",
    "        print(\"配列に問題あり、計算できません！\")\n",
    "    else:\n",
    "        print(ii,kk,jj)\n",
    "        for i in range(ii):\n",
    "            for j in range(jj):\n",
    "                for k in range(kk):\n",
    "                    ans[i][j] = ans[i][j] + a[i][k]*b[k][j]\n",
    "\n",
    "        return ans\n",
    "\n",
    "print(multi(d_ndarray,e_ndarray))\n"
   ]
  },
  {
   "cell_type": "markdown",
   "id": "a0c98e6f",
   "metadata": {},
   "source": [
    "【問題6】転置"
   ]
  },
  {
   "cell_type": "code",
   "execution_count": 8,
   "id": "753515cc",
   "metadata": {},
   "outputs": [
    {
     "name": "stdout",
     "output_type": "stream",
     "text": [
      "[[ 46.  -4.]\n",
      " [-34.  73.]]\n",
      "[[ 46.  -4.]\n",
      " [-34.  73.]]\n"
     ]
    }
   ],
   "source": [
    "import numpy as np\n",
    "\n",
    "a_ndarray = np.array([[-1, 2, 3], [4, -5, 6], [7, 8, -9]])\n",
    "b_ndarray = np.array([[0, 2, 1], [0, 2, -8], [2, 9, -1]])\n",
    "\n",
    "d_ndarray = np.array([[-1, 2, 3], [4, -5, 6]])\n",
    "e_ndarray = np.array([[-9, 8, 7], [6, -5, 4]])\n",
    "f_ndarray = np.transpose(e_ndarray)\n",
    "g_ndarray = e_ndarray.T\n",
    "#print(f_ndarray)           確認用\n",
    "#print(g_ndarray)          確認用\n",
    "\n",
    "def multi(a,b):\n",
    "\n",
    "    ans = np.zeros((len(a),len(b[0])))\n",
    "    \n",
    "    ii = len(a)\n",
    "    kk = len(b)\n",
    "    jj = len(b[0])\n",
    "    if len(a[0]) != len(b):\n",
    "        print(\"配列に問題あり、計算できません！\")\n",
    "    else:\n",
    "        #print(ii,kk,jj)\n",
    "        for i in range(ii):\n",
    "            for j in range(jj):\n",
    "                for k in range(kk):\n",
    "                    ans[i][j] = ans[i][j] + a[i][k]*b[k][j]\n",
    "\n",
    "        return ans\n",
    "\n",
    "print(multi(d_ndarray,f_ndarray))\n",
    "print(multi(d_ndarray,g_ndarray))"
   ]
  },
  {
   "cell_type": "code",
   "execution_count": null,
   "id": "8b2a621f",
   "metadata": {},
   "outputs": [],
   "source": []
  }
 ],
 "metadata": {
  "kernelspec": {
   "display_name": "Python 3",
   "language": "python",
   "name": "python3"
  },
  "language_info": {
   "codemirror_mode": {
    "name": "ipython",
    "version": 3
   },
   "file_extension": ".py",
   "mimetype": "text/x-python",
   "name": "python",
   "nbconvert_exporter": "python",
   "pygments_lexer": "ipython3",
   "version": "3.8.8"
  }
 },
 "nbformat": 4,
 "nbformat_minor": 5
}
